{
  "nbformat": 4,
  "nbformat_minor": 0,
  "metadata": {
    "colab": {
      "name": "Untitled0.ipynb",
      "provenance": [],
      "authorship_tag": "ABX9TyMcgvkE67BbgkR5JgTPkAyP",
      "include_colab_link": true
    },
    "kernelspec": {
      "name": "python3",
      "display_name": "Python 3"
    }
  },
  "cells": [
    {
      "cell_type": "markdown",
      "metadata": {
        "id": "view-in-github",
        "colab_type": "text"
      },
      "source": [
        "<a href=\"https://colab.research.google.com/github/kandkurteram/Deep-Learning/blob/master/PyTorch_CNN.ipynb\" target=\"_parent\"><img src=\"https://colab.research.google.com/assets/colab-badge.svg\" alt=\"Open In Colab\"/></a>"
      ]
    },
    {
      "cell_type": "code",
      "metadata": {
        "id": "SIwwOTODf4gF"
      },
      "source": [
        "import torch\n",
        "from torchvision import datasets\n",
        "from matplotlib import pyplot as plt\n",
        "from torchvision import transforms\n",
        "import torch.nn as nn\n",
        "import torch.optim as optim\n",
        "\n",
        "data_path = '..\\Ram_Practice\\data\\p1ch7'\n",
        "cifar10 = datasets.CIFAR10(data_path, train=True, download=False, transform=transforms.ToTensor())\n",
        "cifar10_val = datasets.CIFAR10(data_path, train=False, download=False, transform=transforms.ToTensor())\n",
        "\n",
        "imgs = torch.stack([img_t for img_t, _ in cifar10], dim=3)\n",
        "print(imgs.shape)\n",
        "# mean = imgs.view(3, -1).mean(dim=1)\n",
        "# stddev = imgs.view(3, -1).std(dim=1)\n",
        "\n",
        "# print(mean)\n",
        "# print(stddev)\n",
        "\n",
        "\n",
        "cifar10_transformed = datasets.CIFAR10(\n",
        "                            data_path, train=True, \n",
        "                            download=False, \n",
        "                            transform=transforms.Compose(\n",
        "                                                        [\n",
        "                                                            transforms.ToTensor(), \n",
        "                                                            transforms.Normalize((0.4915, 0.4823, 0.4468), (0.2470, 0.2435, 0.2616))\n",
        "                                                        ]\n",
        "                                                        )\n",
        "                                      )\n",
        "\n",
        "# img_t, _ = cifar10_transformed[99]\n",
        "# plt.imshow(img_t.permute(1,2,0))\n",
        "# plt.show()\n",
        "\n",
        "label_map = {0: 0, 2: 1}\n",
        "class_names = ['airplane', 'bird']\n",
        "\n",
        "cifar2 =[\n",
        "            (img, label_map[label]) \n",
        "            for img, label in cifar10 if label in [0,2]\n",
        "        ]\n",
        "\n",
        "cifar2_val =[\n",
        "            (img, label_map[label]) \n",
        "            for img, label in cifar10_val if label in [0,2]\n",
        "        ]\n",
        "\n",
        "model = nn.Sequential(\n",
        "                        nn.Linear(3072, 512),\n",
        "                        nn.Tanh(),\n",
        "                        nn.Linear(512, 2),\n",
        "                        nn.LogSoftmax(dim=1)\n",
        "                     )\n",
        "\n",
        "img, _ = cifar2[0]\n",
        "# plt.imshow(img.permute(1,2,0))\n",
        "# plt.show()\n",
        "\n",
        "# print(img)\n",
        "# print(img.view(-1))\n",
        "# print(img.view(-1).unsqueeze(0))\n",
        "\n",
        "loss_fn = nn.NLLLoss()\n",
        "\n",
        "# _, index = torch.max(out, dim=1)\n",
        "# print(index)\n",
        "\n",
        "n_epochs = 100\n",
        "learning_rate = 1e-2\n",
        "optimizer = optim.SGD(model.parameters(), lr = learning_rate)\n",
        "\n",
        "for epoch in range(n_epochs):\n",
        "    for img, label in cifar2:\n",
        "        out = model(img.view(-1).unsqueeze(0))\n",
        "        loss = loss_fn(out, torch.tensor([label]))\n",
        "\n",
        "        optimizer.zero_grad()\n",
        "        loss.backward()\n",
        "        optimizer.step()\n",
        "\n",
        "    print(\"Epoch: %d, Loss: %f\" % (epoch, float(loss)))"
      ],
      "execution_count": null,
      "outputs": []
    },
    {
      "cell_type": "markdown",
      "metadata": {
        "id": "oKP360rVgMKs"
      },
      "source": [
        "# New Section"
      ]
    }
  ]
}